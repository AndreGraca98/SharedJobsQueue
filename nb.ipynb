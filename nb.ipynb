{
 "cells": [
  {
   "cell_type": "code",
   "execution_count": 6,
   "metadata": {},
   "outputs": [
    {
     "data": {
      "text/plain": [
       "Jobs:\n",
       "  Job(_id=1, user=brisa, env=\"aak\", command=\"newwwwww\", priority=Priority.URGENT, timestamp=2022-10-12 02:21:32.816840)\n",
       "  Job(_id=2, user=brisa, env=\"/bin/bash\", command=\"examples/bash_file.sh\", priority=Priority.MEDIUM, timestamp=2022-10-12 02:21:33.144600)"
      ]
     },
     "execution_count": 6,
     "metadata": {},
     "output_type": "execute_result"
    }
   ],
   "source": [
    "from dataclasses import dataclass\n",
    "from pathlib import Path\n",
    "\n",
    "from shared_jobs_queue.args import get_args\n",
    "from shared_jobs_queue.jobs import Priority\n",
    "from shared_jobs_queue.queues import JobsQueue\n",
    "from shared_jobs_queue.tools import fpkl\n",
    "\n",
    "\n",
    "\n",
    "QUEUE_FILENAME: str = \".JOBS_QUEUE.pkl\"\n",
    "path = (Path.home() / Path(QUEUE_FILENAME)).resolve()\n",
    "\n",
    "\n",
    "try:\n",
    "    queue = fpkl.read(Path(path).resolve())\n",
    "except FileNotFoundError:\n",
    "    # If file does not exist create new empty queue\n",
    "    queue = JobsQueue()\n",
    "    \n",
    "\n",
    "@dataclass\n",
    "class args:\n",
    "    id:int\n",
    "    attr:str\n",
    "    new_value:str\n",
    "\n",
    "\n",
    "queue.update(args(1, 'command', 'newwwwww'))\n",
    "queue.update(args(1, 'priority', '4'))\n",
    "queue.update(args(1, 'env', 'aak'))\n",
    "\n",
    "queue\n",
    "\n",
    "# Update Queue\n",
    "# fpkl.write(path, queue)\n",
    "\n"
   ]
  }
 ],
 "metadata": {
  "kernelspec": {
   "display_name": "Python 3.7.13 ('jobqueue')",
   "language": "python",
   "name": "python3"
  },
  "language_info": {
   "codemirror_mode": {
    "name": "ipython",
    "version": 3
   },
   "file_extension": ".py",
   "mimetype": "text/x-python",
   "name": "python",
   "nbconvert_exporter": "python",
   "pygments_lexer": "ipython3",
   "version": "3.7.13"
  },
  "orig_nbformat": 4,
  "vscode": {
   "interpreter": {
    "hash": "bec4d96420a57f4cfa68360bd80357293071cceabfffbc679c77ef653fab2bb9"
   }
  }
 },
 "nbformat": 4,
 "nbformat_minor": 2
}
